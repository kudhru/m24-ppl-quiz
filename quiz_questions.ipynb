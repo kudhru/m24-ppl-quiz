{
 "cells": [
  {
   "cell_type": "code",
   "execution_count": 111,
   "metadata": {
    "vscode": {
     "languageId": "ocaml"
    }
   },
   "outputs": [
    {
     "data": {
      "text/plain": [
       "- : int = 22\n"
      ]
     },
     "execution_count": 111,
     "metadata": {},
     "output_type": "execute_result"
    }
   ],
   "source": [
    "(* Question 1 [1.5 marks] *) \n",
    "\n",
    "(* What is the final value or output of the below expression after it is evaluated? *)\n",
    "\n",
    "let x = 10 in\n",
    "let x = let x = x * 2 in x + 5 in\n",
    "let x = x - 3 in\n",
    "x\n",
    "\n",
    "\n",
    "\n"
   ]
  },
  {
   "cell_type": "code",
   "execution_count": 159,
   "metadata": {
    "vscode": {
     "languageId": "ocaml"
    }
   },
   "outputs": [
    {
     "data": {
      "text/plain": [
       "- : float = 63.25\n"
      ]
     },
     "execution_count": 159,
     "metadata": {},
     "output_type": "execute_result"
    }
   ],
   "source": [
    "(5. *. 105. /. 60. ) +. 54.5"
   ]
  },
  {
   "cell_type": "code",
   "execution_count": 160,
   "metadata": {
    "vscode": {
     "languageId": "ocaml"
    }
   },
   "outputs": [
    {
     "data": {
      "text/plain": [
       "- : float = 64.8927533107649452\n"
      ]
     },
     "execution_count": 160,
     "metadata": {},
     "output_type": "execute_result"
    }
   ],
   "source": []
  },
  {
   "cell_type": "code",
   "execution_count": 161,
   "metadata": {
    "vscode": {
     "languageId": "ocaml"
    }
   },
   "outputs": [
    {
     "data": {
      "text/plain": [
       "- : float = 53.7631424342715363\n"
      ]
     },
     "execution_count": 161,
     "metadata": {},
     "output_type": "execute_result"
    }
   ],
   "source": []
  },
  {
   "cell_type": "code",
   "execution_count": 112,
   "metadata": {
    "vscode": {
     "languageId": "ocaml"
    }
   },
   "outputs": [
    {
     "data": {
      "text/plain": [
       "- : int = 13\n"
      ]
     },
     "execution_count": 112,
     "metadata": {},
     "output_type": "execute_result"
    }
   ],
   "source": [
    "(* Question 2  [1.5 marks] *)\n",
    "\n",
    "\n",
    "(* What is the final value or output of the below expression after it is evaluated? *)\n",
    "\n",
    "let f = let x = 3 in fun y -> x + y in\n",
    "let x = 10 in\n",
    "f x"
   ]
  },
  {
   "cell_type": "code",
   "execution_count": 114,
   "metadata": {
    "vscode": {
     "languageId": "ocaml"
    }
   },
   "outputs": [
    {
     "data": {
      "text/plain": [
       "- : int = 28\n"
      ]
     },
     "execution_count": 114,
     "metadata": {},
     "output_type": "execute_result"
    }
   ],
   "source": [
    "(* Question 3 [1.5 marks] *)\n",
    "\n",
    "\n",
    "(* What is the final value or output of the below expression after it is evaluated? *)\n",
    "\n",
    "let x = 5 in\n",
    "let y = let x = x * 2 in let z = x + 3 in z in\n",
    "let z = y + (let x = 2 in x + y) in z\n",
    "\n"
   ]
  },
  {
   "cell_type": "code",
   "execution_count": 116,
   "metadata": {
    "vscode": {
     "languageId": "ocaml"
    }
   },
   "outputs": [
    {
     "data": {
      "text/plain": [
       "val x : int ref = {contents = 1}\n"
      ]
     },
     "execution_count": 116,
     "metadata": {},
     "output_type": "execute_result"
    },
    {
     "data": {
      "text/plain": [
       "val y : int ref = {contents = 1}\n"
      ]
     },
     "execution_count": 116,
     "metadata": {},
     "output_type": "execute_result"
    },
    {
     "data": {
      "text/plain": [
       "val z : int ref = {contents = 1}\n"
      ]
     },
     "execution_count": 116,
     "metadata": {},
     "output_type": "execute_result"
    },
    {
     "data": {
      "text/plain": [
       "val result : bool list = [true; true; true; true]\n"
      ]
     },
     "execution_count": 116,
     "metadata": {},
     "output_type": "execute_result"
    },
    {
     "data": {
      "text/plain": [
       "- : bool list = [true; true; true; true]\n"
      ]
     },
     "execution_count": 116,
     "metadata": {},
     "output_type": "execute_result"
    }
   ],
   "source": [
    "(* Question 4 [1.5 marks] *)\n",
    "\n",
    "\n",
    "(* What is the value of `result` after the below mentioned code snippet is entirely evaluated? *)\n",
    "\n",
    "let x = ref 1;;\n",
    "let y = ref 1;;\n",
    "let z = x;;\n",
    "\n",
    "let result = [\n",
    "  !x = !y;      \n",
    "  x = y;        \n",
    "  x = z;        \n",
    "  !x = !(ref 1) \n",
    "];;\n",
    "\n",
    "result;;"
   ]
  },
  {
   "cell_type": "code",
   "execution_count": 118,
   "metadata": {
    "vscode": {
     "languageId": "ocaml"
    }
   },
   "outputs": [
    {
     "data": {
      "text/plain": [
       "val f : int -> int = <fun>\n"
      ]
     },
     "execution_count": 118,
     "metadata": {},
     "output_type": "execute_result"
    },
    {
     "data": {
      "text/plain": [
       "- : int = 2\n"
      ]
     },
     "execution_count": 118,
     "metadata": {},
     "output_type": "execute_result"
    }
   ],
   "source": [
    "(* Question 5 [1.5 marks] *)\n",
    "\n",
    "\n",
    "(* What is the value or output of `final_value` after the below mentioned code snippet is entirely evaluated? *)\n",
    "\n",
    "let rec f n =\n",
    "  if n <= 0 then 1\n",
    "  else if n mod 2 = 0 then \n",
    "    let x = f (n-1) in\n",
    "    if x > 10 then x-1 else x+1\n",
    "  else f (n-2);;\n",
    "\n",
    "let final_value = f 10;;\n",
    "\n",
    "final_value;\n",
    "\n",
    "\n"
   ]
  },
  {
   "cell_type": "code",
   "execution_count": 120,
   "metadata": {
    "vscode": {
     "languageId": "ocaml"
    }
   },
   "outputs": [
    {
     "data": {
      "text/plain": [
       "val r : int ref = {contents = 0}\n"
      ]
     },
     "execution_count": 120,
     "metadata": {},
     "output_type": "execute_result"
    },
    {
     "data": {
      "text/plain": [
       "val f : int -> bool = <fun>\n"
      ]
     },
     "execution_count": 120,
     "metadata": {},
     "output_type": "execute_result"
    },
    {
     "data": {
      "text/plain": [
       "val g : int -> bool = <fun>\n"
      ]
     },
     "execution_count": 120,
     "metadata": {},
     "output_type": "execute_result"
    },
    {
     "data": {
      "text/plain": [
       "val test : int -> int -> int = <fun>\n"
      ]
     },
     "execution_count": 120,
     "metadata": {},
     "output_type": "execute_result"
    },
    {
     "data": {
      "text/plain": [
       "- : int = 3\n"
      ]
     },
     "execution_count": 120,
     "metadata": {},
     "output_type": "execute_result"
    }
   ],
   "source": [
    "(* Question 6 [1.5 marks] *)\n",
    "\n",
    "\n",
    "(* What is the value of `final_value` after the below mentioned code snippet is entirely evaluated? *)\n",
    "\n",
    "let r = ref 0;;\n",
    "let f x = \n",
    "  r := !r + 1; \n",
    "  !r > x;;\n",
    "let g x = \n",
    "  r := !r * 2; \n",
    "  !r < x;;\n",
    "\n",
    "let test x y =\n",
    "  if (f x && g y) || (f y && g x) then\n",
    "    !r\n",
    "  else\n",
    "    !r + 1;;\n",
    "\n",
    "let final_value = test 2 10;;\n",
    "\n",
    "final_value;;\n",
    "\n"
   ]
  },
  {
   "cell_type": "code",
   "execution_count": 124,
   "metadata": {
    "vscode": {
     "languageId": "ocaml"
    }
   },
   "outputs": [
    {
     "data": {
      "text/plain": [
       "val compose : ('a -> 'b) -> ('c -> 'a) -> 'c -> 'b = <fun>\n"
      ]
     },
     "execution_count": 124,
     "metadata": {},
     "output_type": "execute_result"
    },
    {
     "data": {
      "text/plain": [
       "val funcs : (int -> int) list = [<fun>; <fun>; <fun>]\n"
      ]
     },
     "execution_count": 124,
     "metadata": {},
     "output_type": "execute_result"
    },
    {
     "data": {
      "text/plain": [
       "val final_list : int list = [0; 6; 12]\n"
      ]
     },
     "execution_count": 124,
     "metadata": {},
     "output_type": "execute_result"
    },
    {
     "data": {
      "text/plain": [
       "- : int list = [0; 6; 12]\n"
      ]
     },
     "execution_count": 124,
     "metadata": {},
     "output_type": "execute_result"
    }
   ],
   "source": [
    "(* Question 7 [3 marks] *)\n",
    "\n",
    "\n",
    "(* What is the value of `final_list` after the below mentioned code snippet is entirely evaluated? *)\n",
    "\n",
    "let compose f g = fun x -> f (g x);;\n",
    "\n",
    "let funcs = List.init 3 (fun i -> \n",
    "  compose (fun x -> x + i) (fun x -> x * i));;\n",
    "\n",
    "let final_list = List.map (fun f -> f 5) funcs;;\n",
    "\n",
    "final_list;;\n",
    "\n",
    "\n",
    "\n"
   ]
  },
  {
   "cell_type": "code",
   "execution_count": 126,
   "metadata": {
    "vscode": {
     "languageId": "ocaml"
    }
   },
   "outputs": [
    {
     "data": {
      "text/plain": [
       "val f : 'a -> 'a -> int -> int -> int = <fun>\n"
      ]
     },
     "execution_count": 126,
     "metadata": {},
     "output_type": "execute_result"
    },
    {
     "data": {
      "text/plain": [
       "val final_value : int = 9\n"
      ]
     },
     "execution_count": 126,
     "metadata": {},
     "output_type": "execute_result"
    },
    {
     "data": {
      "text/plain": [
       "- : int = 9\n"
      ]
     },
     "execution_count": 126,
     "metadata": {},
     "output_type": "execute_result"
    }
   ],
   "source": [
    "\n",
    "(* Question 8 [1.5 marks] *)\n",
    "\n",
    "(* What is the value of `final_value` after the below mentioned code snippet is entirely evaluated? *)\n",
    "\n",
    "let f = fun x -> fun y -> fun z -> \n",
    "  if x > y then (fun w -> w + z) \n",
    "  else (fun w -> w * z);;\n",
    "\n",
    "let final_value = (f 3 2 4) 5;;\n",
    "\n",
    "final_value;;\n",
    "\n"
   ]
  },
  {
   "cell_type": "code",
   "execution_count": 128,
   "metadata": {
    "vscode": {
     "languageId": "ocaml"
    }
   },
   "outputs": [
    {
     "data": {
      "text/plain": [
       "val funcs : (int -> int) list = [<fun>; <fun>; <fun>]\n"
      ]
     },
     "execution_count": 128,
     "metadata": {},
     "output_type": "execute_result"
    },
    {
     "data": {
      "text/plain": [
       "val apply_all : int -> int = <fun>\n"
      ]
     },
     "execution_count": 128,
     "metadata": {},
     "output_type": "execute_result"
    },
    {
     "data": {
      "text/plain": [
       "val final_value : int = 36\n"
      ]
     },
     "execution_count": 128,
     "metadata": {},
     "output_type": "execute_result"
    },
    {
     "data": {
      "text/plain": [
       "- : int = 36\n"
      ]
     },
     "execution_count": 128,
     "metadata": {},
     "output_type": "execute_result"
    }
   ],
   "source": [
    "\n",
    "(* Question 9 [1.5 marks] *)\n",
    "\n",
    "\n",
    "(* What is the value of `final_value` after the below mentioned code snippet is entirely evaluated? *)\n",
    "\n",
    "let funcs = [\n",
    "  (fun x -> x + 1);\n",
    "  (fun y -> y * 2);\n",
    "  (fun z -> z * z)\n",
    "];;\n",
    "\n",
    "let apply_all x = \n",
    "  List.fold_left (fun acc f -> f acc) x funcs;;\n",
    "\n",
    "let final_value = apply_all 2;;\n",
    "\n",
    "final_value;;\n"
   ]
  },
  {
   "cell_type": "code",
   "execution_count": 129,
   "metadata": {
    "vscode": {
     "languageId": "ocaml"
    }
   },
   "outputs": [
    {
     "data": {
      "text/plain": [
       "val flip : ('a -> 'b -> 'c) -> 'b -> 'a -> 'c = <fun>\n"
      ]
     },
     "execution_count": 129,
     "metadata": {},
     "output_type": "execute_result"
    },
    {
     "data": {
      "text/plain": [
       "val compose : ('a -> 'b) -> ('c -> 'a) -> 'c -> 'b = <fun>\n"
      ]
     },
     "execution_count": 129,
     "metadata": {},
     "output_type": "execute_result"
    },
    {
     "data": {
      "text/plain": [
       "val apply : 'a -> ('a -> 'b) -> 'b = <fun>\n"
      ]
     },
     "execution_count": 129,
     "metadata": {},
     "output_type": "execute_result"
    },
    {
     "data": {
      "text/plain": [
       "val f : (int -> '_weak9) -> int -> '_weak9 = <fun>\n"
      ]
     },
     "execution_count": 129,
     "metadata": {},
     "output_type": "execute_result"
    },
    {
     "data": {
      "text/plain": [
       "val g : int -> int = <fun>\n"
      ]
     },
     "execution_count": 129,
     "metadata": {},
     "output_type": "execute_result"
    },
    {
     "data": {
      "text/plain": [
       "val final_value : int = 8\n"
      ]
     },
     "execution_count": 129,
     "metadata": {},
     "output_type": "execute_result"
    },
    {
     "data": {
      "text/plain": [
       "- : int = 8\n"
      ]
     },
     "execution_count": 129,
     "metadata": {},
     "output_type": "execute_result"
    }
   ],
   "source": [
    "\n",
    "(* Question 10 [1.5 marks] *)\n",
    "\n",
    "(* What is the value of `final_value` after the below mentioned code snippet is entirely evaluated? *)\n",
    "\n",
    "let flip f = fun x y -> f y x;;\n",
    "let compose f g = fun x -> f (g x);;\n",
    "let apply x f = f x;;\n",
    "\n",
    "let f = flip compose (fun x -> x + 1);;\n",
    "let g = f (fun x -> x * 2);;\n",
    "\n",
    "let final_value = apply 3 g;;\n",
    "\n",
    "final_value;;\n"
   ]
  },
  {
   "cell_type": "code",
   "execution_count": 130,
   "metadata": {
    "vscode": {
     "languageId": "ocaml"
    }
   },
   "outputs": [
    {
     "data": {
      "text/plain": [
       "val pipeline : int = 1\n"
      ]
     },
     "execution_count": 130,
     "metadata": {},
     "output_type": "execute_result"
    },
    {
     "data": {
      "text/plain": [
       "- : int = 1\n"
      ]
     },
     "execution_count": 130,
     "metadata": {},
     "output_type": "execute_result"
    }
   ],
   "source": [
    "(* Question 11 [3 marks] *)\n",
    "\n",
    "\n",
    "(* What is the value of `pipeline` after the below mentioned code snippet is entirely evaluated? *)\n",
    "\n",
    "let pipeline = \n",
    "  let func1 f g = fun x -> g (f x) in\n",
    "  let ops = [\n",
    "    func1 (fun x -> x + 1) (fun x -> x * 2);\n",
    "    func1 (fun x -> x - 3) (fun x -> x * x);\n",
    "    fun x -> x mod 5\n",
    "  ]\n",
    "  in\n",
    "  List.fold_left (fun acc f -> f acc) 5 ops;;\n",
    "\n",
    "pipeline;;\n",
    "\n"
   ]
  },
  {
   "cell_type": "code",
   "execution_count": 131,
   "metadata": {
    "vscode": {
     "languageId": "ocaml"
    }
   },
   "outputs": [
    {
     "data": {
      "text/plain": [
       "type person = Student of string | Teacher of string\n"
      ]
     },
     "execution_count": 131,
     "metadata": {},
     "output_type": "execute_result"
    },
    {
     "data": {
      "text/plain": [
       "type school = Class of person * school | Empty\n"
      ]
     },
     "execution_count": 131,
     "metadata": {},
     "output_type": "execute_result"
    },
    {
     "data": {
      "text/plain": [
       "val count_students : school -> int = <fun>\n"
      ]
     },
     "execution_count": 131,
     "metadata": {},
     "output_type": "execute_result"
    },
    {
     "data": {
      "text/plain": [
       "val count_teachers : school -> int = <fun>\n"
      ]
     },
     "execution_count": 131,
     "metadata": {},
     "output_type": "execute_result"
    },
    {
     "data": {
      "text/plain": [
       "val school : school =\n",
       "  Class (Student \"Animesh\",\n",
       "   Class (Student \"Aditya\",\n",
       "    Class (Teacher \"Aman\",\n",
       "     Class (Student \"Arun\", Class (Teacher \"Akhil\", Empty)))))\n"
      ]
     },
     "execution_count": 131,
     "metadata": {},
     "output_type": "execute_result"
    },
    {
     "data": {
      "text/plain": [
       "val final_value : int * int = (2, 3)\n"
      ]
     },
     "execution_count": 131,
     "metadata": {},
     "output_type": "execute_result"
    },
    {
     "data": {
      "text/plain": [
       "- : int * int = (2, 3)\n"
      ]
     },
     "execution_count": 131,
     "metadata": {},
     "output_type": "execute_result"
    }
   ],
   "source": [
    "\n",
    "(* Question 12 [3 marks] *)\n",
    "\n",
    "(* What is the value of `final_value` after the below mentioned code snippet is entirely evaluated? *)\n",
    "\n",
    "type person = Student of string | Teacher of string\n",
    "type school = Class of person * school | Empty\n",
    "\n",
    "let rec count_students item = \n",
    "  match item with\n",
    "  | Empty -> 0\n",
    "  | Class(Student _, rest) -> count_students rest\n",
    "  | Class(Teacher _, rest) -> 1 + count_students rest\n",
    "\n",
    "let rec count_teachers item = \n",
    "  match item with\n",
    "  | Empty -> 0\n",
    "  | Class(Student _, rest) -> 1 + count_teachers rest\n",
    "  | Class(Teacher _, rest) -> count_teachers rest\n",
    "\n",
    "let school = Class(Student \"Animesh\",\n",
    "            Class(Student \"Aditya\",\n",
    "            Class(Teacher \"Aman\",\n",
    "            Class(Student \"Arun\",\n",
    "            Class(Teacher \"Akhil\", Empty)))));;\n",
    "\n",
    "let final_value = (count_students school, count_teachers school);;\n",
    "\n",
    "final_value;;\n"
   ]
  },
  {
   "cell_type": "code",
   "execution_count": 132,
   "metadata": {
    "vscode": {
     "languageId": "ocaml"
    }
   },
   "outputs": [
    {
     "data": {
      "text/plain": [
       "type arithmetic =\n",
       "    Value of int\n",
       "  | Plus of arithmetic * arithmetic\n",
       "  | Times of arithmetic * arithmetic\n",
       "  | Neg of arithmetic\n"
      ]
     },
     "execution_count": 132,
     "metadata": {},
     "output_type": "execute_result"
    },
    {
     "data": {
      "text/plain": [
       "val eval : arithmetic -> int = <fun>\n"
      ]
     },
     "execution_count": 132,
     "metadata": {},
     "output_type": "execute_result"
    },
    {
     "data": {
      "text/plain": [
       "val expr : arithmetic =\n",
       "  Times (Plus (Value 3, Value 2), Neg (Plus (Value 1, Value 2)))\n"
      ]
     },
     "execution_count": 132,
     "metadata": {},
     "output_type": "execute_result"
    },
    {
     "data": {
      "text/plain": [
       "val final_value : int = -15\n"
      ]
     },
     "execution_count": 132,
     "metadata": {},
     "output_type": "execute_result"
    },
    {
     "data": {
      "text/plain": [
       "- : int = -15\n"
      ]
     },
     "execution_count": 132,
     "metadata": {},
     "output_type": "execute_result"
    }
   ],
   "source": [
    "(* Question 13 [3 marks] *)\n",
    "\n",
    "\n",
    "(* What is the value of `final_value` after the below mentioned code snippet is entirely evaluated? *)\n",
    "\n",
    "type arithmetic = \n",
    "  | Value of int\n",
    "  | Plus of arithmetic * arithmetic\n",
    "  | Times of arithmetic * arithmetic\n",
    "  | Neg of arithmetic;;\n",
    "\n",
    "let rec eval value = \n",
    "  match value with\n",
    "  | Value n -> n\n",
    "  | Plus(a1, a2) -> eval a1 + eval a2\n",
    "  | Times(a1, a2) -> eval a1 * eval a2\n",
    "  | Neg a -> -(eval a);;\n",
    "\n",
    "let expr = Times(Plus(Value 3, Value 2), \n",
    "                Neg(Plus(Value 1, Value 2)));;\n",
    "\n",
    "let final_value = eval expr;;\n",
    "\n",
    "final_value;;\n",
    "\n"
   ]
  },
  {
   "cell_type": "code",
   "execution_count": 134,
   "metadata": {
    "vscode": {
     "languageId": "ocaml"
    }
   },
   "outputs": [
    {
     "data": {
      "text/plain": [
       "type 'a btree = Empty | Node of 'a * 'a btree * 'a btree\n"
      ]
     },
     "execution_count": 134,
     "metadata": {},
     "output_type": "execute_result"
    },
    {
     "data": {
      "text/plain": [
       "val map_tree : ('a -> 'b) -> 'a btree -> 'b btree = <fun>\n"
      ]
     },
     "execution_count": 134,
     "metadata": {},
     "output_type": "execute_result"
    },
    {
     "data": {
      "text/plain": [
       "val count_nodes : 'a btree -> int = <fun>\n"
      ]
     },
     "execution_count": 134,
     "metadata": {},
     "output_type": "execute_result"
    },
    {
     "data": {
      "text/plain": [
       "val t : int btree =\n",
       "  Node (1, Node (2, Node (4, Empty, Empty), Empty),\n",
       "   Node (3, Empty, Node (5, Empty, Empty)))\n"
      ]
     },
     "execution_count": 134,
     "metadata": {},
     "output_type": "execute_result"
    },
    {
     "data": {
      "text/plain": [
       "val t2 : int btree =\n",
       "  Node (2, Node (4, Node (8, Empty, Empty), Empty),\n",
       "   Node (6, Empty, Node (10, Empty, Empty)))\n"
      ]
     },
     "execution_count": 134,
     "metadata": {},
     "output_type": "execute_result"
    },
    {
     "data": {
      "text/plain": [
       "- : int = 27\n"
      ]
     },
     "execution_count": 134,
     "metadata": {},
     "output_type": "execute_result"
    },
    {
     "data": {
      "text/plain": [
       "val final_value : int = 27\n"
      ]
     },
     "execution_count": 134,
     "metadata": {},
     "output_type": "execute_result"
    },
    {
     "data": {
      "text/plain": [
       "- : int = 27\n"
      ]
     },
     "execution_count": 134,
     "metadata": {},
     "output_type": "execute_result"
    }
   ],
   "source": [
    "\n",
    "(* Question 14 [3 marks]*)\n",
    "\n",
    "\n",
    "(* What is the value of `final_value` after the below mentioned code snippet is entirely evaluated? *)\n",
    "\n",
    "type 'a btree = \n",
    "  | Empty \n",
    "  | Node of 'a * 'a btree * 'a btree\n",
    "\n",
    "let rec map_tree f tree = \n",
    "  match tree with\n",
    "  | Empty -> Empty\n",
    "  | Node(x, left, right) -> \n",
    "      Node(f x, map_tree f left, map_tree f right);;\n",
    "\n",
    "let rec count_nodes tree = \n",
    "  match tree with\n",
    "  | Empty -> 2\n",
    "  | Node(_, left, right) -> \n",
    "      3 + count_nodes left + count_nodes right\n",
    "\n",
    "let t = Node(1, \n",
    "        Node(2, Node(4, Empty, Empty), Empty),\n",
    "        Node(3, Empty, Node(5, Empty, Empty)))\n",
    "\n",
    "let t2 = map_tree (fun x -> x * 2) t;;\n",
    "count_nodes t2;;\n",
    "\n",
    "let final_value = count_nodes t2;;\n",
    "\n",
    "final_value;;\n",
    "\n"
   ]
  },
  {
   "cell_type": "code",
   "execution_count": 62,
   "metadata": {
    "vscode": {
     "languageId": "ocaml"
    }
   },
   "outputs": [
    {
     "data": {
      "text/plain": [
       "type expr = Const of int | Add of expr list | Mul of expr list\n"
      ]
     },
     "execution_count": 62,
     "metadata": {},
     "output_type": "execute_result"
    },
    {
     "data": {
      "text/plain": [
       "val evaluate : expr -> int = <fun>\n"
      ]
     },
     "execution_count": 62,
     "metadata": {},
     "output_type": "execute_result"
    },
    {
     "data": {
      "text/plain": [
       "val exp : expr =\n",
       "  Mul [Add [Const 2; Const 3]; Add [Const 1; Const 4]; Const 2]\n"
      ]
     },
     "execution_count": 62,
     "metadata": {},
     "output_type": "execute_result"
    },
    {
     "data": {
      "text/plain": [
       "- : int = 256\n"
      ]
     },
     "execution_count": 62,
     "metadata": {},
     "output_type": "execute_result"
    }
   ],
   "source": [
    "\n",
    "(* Question 15 [3 marks] *)\n",
    "\n",
    "\n",
    "(* What is the value of `final_value` after the below mentioned code snippet is entirely evaluated? *)\n",
    "\n",
    "type expr =\n",
    "  | Const of int\n",
    "  | Add of expr list\n",
    "  | Mul of expr list\n",
    "\n",
    "let rec evaluate expression = \n",
    "  match expression with\n",
    "  | Const n -> n\n",
    "  | Add [] -> 1\n",
    "  | Mul [] -> 2\n",
    "  | Add exprs -> List.fold_left (+) 3 (List.map evaluate exprs)\n",
    "  | Mul exprs -> List.fold_left ( * ) 2 (List.map evaluate exprs)\n",
    "\n",
    "let exp = Mul [\n",
    "  Add [Const 2; Const 3];\n",
    "  Add [Const 1; Const 4];\n",
    "  Const 2\n",
    "];;\n",
    "\n",
    "let final_value = evaluate exp;;\n",
    "\n",
    "final_value;;\n",
    "\n"
   ]
  },
  {
   "cell_type": "code",
   "execution_count": 135,
   "metadata": {
    "vscode": {
     "languageId": "ocaml"
    }
   },
   "outputs": [
    {
     "data": {
      "text/plain": [
       "type operation = Push of int | Pop | Add | Mul\n"
      ]
     },
     "execution_count": 135,
     "metadata": {},
     "output_type": "execute_result"
    },
    {
     "data": {
      "text/plain": [
       "val evaluate_stack : operation list -> int list -> int list = <fun>\n"
      ]
     },
     "execution_count": 135,
     "metadata": {},
     "output_type": "execute_result"
    },
    {
     "data": {
      "text/plain": [
       "val ops : operation list = [Push 3; Push 4; Mul; Push 2; Add]\n"
      ]
     },
     "execution_count": 135,
     "metadata": {},
     "output_type": "execute_result"
    },
    {
     "data": {
      "text/plain": [
       "val final_value : int list = [14]\n"
      ]
     },
     "execution_count": 135,
     "metadata": {},
     "output_type": "execute_result"
    },
    {
     "data": {
      "text/plain": [
       "- : int list = [14]\n"
      ]
     },
     "execution_count": 135,
     "metadata": {},
     "output_type": "execute_result"
    }
   ],
   "source": [
    "(* Question 16 [3 marks]*)\n",
    "\n",
    "\n",
    "(* What is the value of `final_value` after the below mentioned code snippet is entirely evaluated? *)\n",
    "\n",
    "type operation = \n",
    "  | Push of int\n",
    "  | Pop\n",
    "  | Add\n",
    "  | Mul;;\n",
    "\n",
    "let rec evaluate_stack ops stack =\n",
    "  match ops, stack with\n",
    "  | [], s -> s\n",
    "  | Push n :: rest, s -> evaluate_stack rest (n :: s)\n",
    "  | Pop :: rest, _ :: s -> evaluate_stack rest s\n",
    "  | Add :: rest, x :: y :: s -> evaluate_stack rest ((x + y) :: s)\n",
    "  | Mul :: rest, x :: y :: s -> evaluate_stack rest ((x * y) :: s)\n",
    "  | _ -> [];;\n",
    "\n",
    "let ops = [Push 3; Push 4; Mul; Push 2; Add];;\n",
    "\n",
    "let final_value = evaluate_stack ops [];;\n",
    "\n",
    "final_value;;\n",
    "\n",
    "\n"
   ]
  },
  {
   "cell_type": "code",
   "execution_count": 136,
   "metadata": {
    "vscode": {
     "languageId": "ocaml"
    }
   },
   "outputs": [
    {
     "data": {
      "text/plain": [
       "type nat = Zero | Succ of nat\n"
      ]
     },
     "execution_count": 136,
     "metadata": {},
     "output_type": "execute_result"
    },
    {
     "data": {
      "text/plain": [
       "val nat_to_int : nat -> int = <fun>\n"
      ]
     },
     "execution_count": 136,
     "metadata": {},
     "output_type": "execute_result"
    },
    {
     "data": {
      "text/plain": [
       "val int_to_nat : int -> nat = <fun>\n"
      ]
     },
     "execution_count": 136,
     "metadata": {},
     "output_type": "execute_result"
    },
    {
     "data": {
      "text/plain": [
       "val add : nat -> nat -> nat = <fun>\n"
      ]
     },
     "execution_count": 136,
     "metadata": {},
     "output_type": "execute_result"
    },
    {
     "data": {
      "text/plain": [
       "val n1 : nat = Succ (Succ (Succ Zero))\n"
      ]
     },
     "execution_count": 136,
     "metadata": {},
     "output_type": "execute_result"
    },
    {
     "data": {
      "text/plain": [
       "val n2 : nat = Succ (Succ (Succ (Succ Zero)))\n"
      ]
     },
     "execution_count": 136,
     "metadata": {},
     "output_type": "execute_result"
    },
    {
     "data": {
      "text/plain": [
       "val final_value : int = 7\n"
      ]
     },
     "execution_count": 136,
     "metadata": {},
     "output_type": "execute_result"
    },
    {
     "data": {
      "text/plain": [
       "- : int = 7\n"
      ]
     },
     "execution_count": 136,
     "metadata": {},
     "output_type": "execute_result"
    }
   ],
   "source": [
    "(* Question 17 [3 marks] *)\n",
    "\n",
    "\n",
    "(* What is the value of `final_value` after the below mentioned code snippet is entirely evaluated? *)\n",
    "\n",
    "type nat = Zero | Succ of nat\n",
    "\n",
    "let rec nat_to_int num = \n",
    "  match num with\n",
    "  | Zero -> 0\n",
    "  | Succ n -> 1 + nat_to_int n\n",
    "\n",
    "let rec int_to_nat n =\n",
    "  if n <= 0 then Zero\n",
    "  else Succ (int_to_nat (n-1))\n",
    "\n",
    "let rec add m n = match m with\n",
    "  | Zero -> n\n",
    "  | Succ p -> Succ (add p n)\n",
    "\n",
    "let n1 = int_to_nat 3;;\n",
    "let n2 = int_to_nat 4;;\n",
    "\n",
    "let final_value = nat_to_int (add n1 n2);;\n",
    "\n",
    "final_value;;\n",
    "\n"
   ]
  },
  {
   "cell_type": "code",
   "execution_count": 137,
   "metadata": {
    "vscode": {
     "languageId": "ocaml"
    }
   },
   "outputs": [
    {
     "data": {
      "text/plain": [
       "type 'a option = None | Some of 'a\n"
      ]
     },
     "execution_count": 137,
     "metadata": {},
     "output_type": "execute_result"
    },
    {
     "data": {
      "text/plain": [
       "val safe_divide : int -> int -> int option = <fun>\n"
      ]
     },
     "execution_count": 137,
     "metadata": {},
     "output_type": "execute_result"
    },
    {
     "data": {
      "text/plain": [
       "val final_value : int option list = [Some 5; None]\n"
      ]
     },
     "execution_count": 137,
     "metadata": {},
     "output_type": "execute_result"
    },
    {
     "data": {
      "text/plain": [
       "- : int option list = [Some 5; None]\n"
      ]
     },
     "execution_count": 137,
     "metadata": {},
     "output_type": "execute_result"
    }
   ],
   "source": [
    "(* Question 18 [1.5 marks] *)\n",
    "\n",
    "\n",
    "(* What is the value of `final_value` after the below mentioned code snippet is entirely evaluated? *)\n",
    "\n",
    "type 'a option = None | Some of 'a;;\n",
    "\n",
    "let safe_divide x y =\n",
    "  if y = 0 then None\n",
    "  else Some (x / y);;\n",
    "\n",
    "let final_value = [safe_divide 10 2; safe_divide 10 0];;\n",
    "\n",
    "final_value;;"
   ]
  },
  {
   "cell_type": "code",
   "execution_count": 155,
   "metadata": {
    "vscode": {
     "languageId": "ocaml"
    }
   },
   "outputs": [
    {
     "data": {
      "text/plain": [
       "val length : 'a list -> int = <fun>\n"
      ]
     },
     "execution_count": 155,
     "metadata": {},
     "output_type": "execute_result"
    },
    {
     "data": {
      "text/plain": [
       "val drop : int -> 'a list -> 'a list = <fun>\n"
      ]
     },
     "execution_count": 155,
     "metadata": {},
     "output_type": "execute_result"
    },
    {
     "data": {
      "text/plain": [
       "val final_value : int = 12\n"
      ]
     },
     "execution_count": 155,
     "metadata": {},
     "output_type": "execute_result"
    },
    {
     "data": {
      "text/plain": [
       "- : int = 12\n"
      ]
     },
     "execution_count": 155,
     "metadata": {},
     "output_type": "execute_result"
    }
   ],
   "source": [
    "(* Question 19 [1.5 marks] *)\n",
    "\n",
    "\n",
    "(* What is the value of `final_value` after the below mentioned code snippet is entirely evaluated? *)\n",
    "\n",
    "let rec length lst = match lst with\n",
    "  | [] -> 0\n",
    "  | _::xs -> 3 + length xs\n",
    "\n",
    "let rec drop n lst = \n",
    "  match (n, lst) with\n",
    "  | (0, xs) -> xs\n",
    "  | (_, []) -> []\n",
    "  | (n, _::xs) -> drop (n-2) xs;;\n",
    "\n",
    "let final_value = length (drop 2 [1; 2; 3; 4; 5]);;\n",
    "\n",
    "final_value;;\n"
   ]
  },
  {
   "cell_type": "code",
   "execution_count": 140,
   "metadata": {
    "vscode": {
     "languageId": "ocaml"
    }
   },
   "outputs": [
    {
     "data": {
      "text/plain": [
       "val abc : 'a list -> 'a list = <fun>\n"
      ]
     },
     "execution_count": 140,
     "metadata": {},
     "output_type": "execute_result"
    },
    {
     "data": {
      "text/plain": [
       "val final_value : int list = [1; 3; 5]\n"
      ]
     },
     "execution_count": 140,
     "metadata": {},
     "output_type": "execute_result"
    },
    {
     "data": {
      "text/plain": [
       "- : int list = [1; 3; 5]\n"
      ]
     },
     "execution_count": 140,
     "metadata": {},
     "output_type": "execute_result"
    }
   ],
   "source": [
    "(* Question 20 [1.5 marks] *)\n",
    "\n",
    "\n",
    "(* What is the value of `final_value` after the below mentioned code snippet is entirely evaluated? *)\n",
    "\n",
    "let rec abc lst = match lst with\n",
    "  | [] -> []\n",
    "  | [x] -> [x]\n",
    "  | x :: y :: rest -> x :: (abc rest);;\n",
    "\n",
    "let final_value = abc [1; 2; 3; 4; 5];;\n",
    "\n",
    "final_value;;\n",
    "\n"
   ]
  },
  {
   "cell_type": "code",
   "execution_count": 84,
   "metadata": {
    "vscode": {
     "languageId": "ocaml"
    }
   },
   "outputs": [
    {
     "data": {
      "text/plain": [
       "val collect : 'a list * 'b list -> ('a * 'b) list = <fun>\n"
      ]
     },
     "execution_count": 84,
     "metadata": {},
     "output_type": "execute_result"
    },
    {
     "data": {
      "text/plain": [
       "- : (int * string) list = [(1, \"a\"); (2, \"b\"); (3, \"c\")]\n"
      ]
     },
     "execution_count": 84,
     "metadata": {},
     "output_type": "execute_result"
    }
   ],
   "source": [
    "(* Question 21 [1.5 marks] *)\n",
    "\n",
    "(* What is the value of `final_value` after the below mentioned code snippet is entirely evaluated? *)\n",
    "\n",
    "let rec collect tup = \n",
    "  match tup with\n",
    "  | ([], _) -> []\n",
    "  | (_, []) -> []\n",
    "  | (x::xs, y::ys) -> (x, y) :: collect (xs, ys);;\n",
    "\n",
    "let final_value = collect ([1; 2; 3], [\"a\"; \"b\"; \"c\"; \"d\"]);;\n",
    "final_value;;\n",
    "\n"
   ]
  },
  {
   "cell_type": "code",
   "execution_count": 87,
   "metadata": {
    "vscode": {
     "languageId": "ocaml"
    }
   },
   "outputs": [
    {
     "data": {
      "text/plain": [
       "val interleave : 'a list -> 'a list -> 'a list = <fun>\n"
      ]
     },
     "execution_count": 87,
     "metadata": {},
     "output_type": "execute_result"
    },
    {
     "data": {
      "text/plain": [
       "val split : 'a list -> 'a list * 'a list = <fun>\n"
      ]
     },
     "execution_count": 87,
     "metadata": {},
     "output_type": "execute_result"
    },
    {
     "data": {
      "text/plain": [
       "val riffle : 'a list -> 'a list = <fun>\n"
      ]
     },
     "execution_count": 87,
     "metadata": {},
     "output_type": "execute_result"
    },
    {
     "data": {
      "text/plain": [
       "- : int list = [1; 2; 3; 4; 5; 6]\n"
      ]
     },
     "execution_count": 87,
     "metadata": {},
     "output_type": "execute_result"
    }
   ],
   "source": [
    "(* Question 22 [3 marks] *)\n",
    "\n",
    "\n",
    "(* What is the value of `final_value` after the below mentioned code snippet is entirely evaluated? *)\n",
    "\n",
    "let rec interleave xs ys = match (xs, ys) with\n",
    "  | ([], l) -> l\n",
    "  | (l, []) -> l\n",
    "  | (x::xs1, y::ys1) -> x :: y :: interleave xs1 ys1;;\n",
    "\n",
    "let rec split lst = match lst with\n",
    "  | [] -> ([], [])\n",
    "  | [x] -> ([x], [])\n",
    "  | x :: y :: rest ->\n",
    "      let (xs, ys) = split rest in\n",
    "      (x :: xs, y :: ys);;\n",
    "\n",
    "let rec riffle lst =\n",
    "  let (xs, ys) = split lst in\n",
    "  interleave xs ys;;\n",
    "\n",
    "let final_value = riffle [1; 2; 3; 4; 5; 6];;\n",
    "\n",
    "final_value;;\n",
    "\n"
   ]
  },
  {
   "cell_type": "code",
   "execution_count": 152,
   "metadata": {
    "vscode": {
     "languageId": "ocaml"
    }
   },
   "outputs": [
    {
     "data": {
      "text/plain": [
       "val nums : int list = [1; 2; 3; 4; 5]\n"
      ]
     },
     "execution_count": 152,
     "metadata": {},
     "output_type": "execute_result"
    },
    {
     "data": {
      "text/plain": [
       "val result : int list = [4; 2]\n"
      ]
     },
     "execution_count": 152,
     "metadata": {},
     "output_type": "execute_result"
    },
    {
     "data": {
      "text/plain": [
       "- : int list = [4; 2]\n"
      ]
     },
     "execution_count": 152,
     "metadata": {},
     "output_type": "execute_result"
    }
   ],
   "source": [
    "(* Question 23 [1.5 marks] *)\n",
    "\n",
    "\n",
    "(* What is the value of `result` after the below mentioned code snippet is entirely evaluated? *)\n",
    "\n",
    "let nums = [1; 2; 3; 4; 5]\n",
    "let result = List.rev (List.fold_right (fun x acc -> \n",
    "  if x mod 2 = 0 \n",
    "  then x :: acc \n",
    "  else acc\n",
    ") nums []);;\n",
    "\n",
    "result;;\n"
   ]
  },
  {
   "cell_type": "code",
   "execution_count": 150,
   "metadata": {
    "vscode": {
     "languageId": "ocaml"
    }
   },
   "outputs": [
    {
     "data": {
      "text/plain": [
       "val lists : int list list = [[1; 2; 4]; [3; 4; 5]; [5; 6; 7]]\n"
      ]
     },
     "execution_count": 150,
     "metadata": {},
     "output_type": "execute_result"
    },
    {
     "data": {
      "text/plain": [
       "val result : int list = [12; 8; 5]\n"
      ]
     },
     "execution_count": 150,
     "metadata": {},
     "output_type": "execute_result"
    },
    {
     "data": {
      "text/plain": [
       "- : int list = [12; 8; 5]\n"
      ]
     },
     "execution_count": 150,
     "metadata": {},
     "output_type": "execute_result"
    }
   ],
   "source": [
    "(* Question 24 [1.5 marks] *)\n",
    "\n",
    "\n",
    "(* What is the value of `result` after the below mentioned code snippet is entirely evaluated? *)\n",
    "\n",
    "let lists = [[1; 2; 4]; [3; 4; 5]; [5; 6; 7]];;\n",
    "let result = List.fold_right (fun lst acc ->\n",
    "  acc @ [List.hd lst + List.hd (List.rev lst)]\n",
    ") lists [];;\n",
    "\n",
    "result;;"
   ]
  },
  {
   "cell_type": "code",
   "execution_count": 153,
   "metadata": {
    "vscode": {
     "languageId": "ocaml"
    }
   },
   "outputs": [
    {
     "data": {
      "text/plain": [
       "val arr : int array = [|0; 2; 4; 6; 8|]\n"
      ]
     },
     "execution_count": 153,
     "metadata": {},
     "output_type": "execute_result"
    },
    {
     "data": {
      "text/plain": [
       "val result : int = 9\n"
      ]
     },
     "execution_count": 153,
     "metadata": {},
     "output_type": "execute_result"
    },
    {
     "data": {
      "text/plain": [
       "- : int = 9\n"
      ]
     },
     "execution_count": 153,
     "metadata": {},
     "output_type": "execute_result"
    }
   ],
   "source": [
    "(* Question 25 [1.5 marks] *)\n",
    "\n",
    "(* What is the value of `result` after the below mentioned code snippet is entirely evaluated? *)\n",
    "\n",
    "let arr = Array.init 5 (fun i -> i * 2);;\n",
    "let result = Array.fold_right (fun x acc ->\n",
    "  if x mod 3 = 0 then acc + x else acc + 1\n",
    ") arr 0;; \n",
    "\n",
    "result;;\n",
    "\n"
   ]
  },
  {
   "cell_type": "code",
   "execution_count": 95,
   "metadata": {
    "vscode": {
     "languageId": "ocaml"
    }
   },
   "outputs": [
    {
     "data": {
      "text/plain": [
       "val f : 'a -> 'a -> 'a = <fun>\n"
      ]
     },
     "execution_count": 95,
     "metadata": {},
     "output_type": "execute_result"
    }
   ],
   "source": [
    "(* Question 26 [1.5 marks] *)\n",
    "\n",
    "\n",
    "(* What is the type of the function `f` mentioned below? *)\n",
    "\n",
    "let f x y = \n",
    "  if x > y then x else y;;\n",
    "\n"
   ]
  },
  {
   "cell_type": "code",
   "execution_count": 97,
   "metadata": {
    "vscode": {
     "languageId": "ocaml"
    }
   },
   "outputs": [
    {
     "data": {
      "text/plain": [
       "val f : ('a * 'b -> 'c) -> 'a -> 'b -> 'c = <fun>\n"
      ]
     },
     "execution_count": 97,
     "metadata": {},
     "output_type": "execute_result"
    }
   ],
   "source": [
    "(* Question 27 [1.5 marks] *)\n",
    "\n",
    "\n",
    "(* What is the type of the function `f` mentioned below? *) \n",
    "\n",
    "let f g x y = g (x, y);;\n",
    "\n"
   ]
  },
  {
   "cell_type": "code",
   "execution_count": 103,
   "metadata": {
    "vscode": {
     "languageId": "ocaml"
    }
   },
   "outputs": [
    {
     "data": {
      "text/plain": [
       "val f : 'a -> ('a -> 'a) list -> 'a = <fun>\n"
      ]
     },
     "execution_count": 103,
     "metadata": {},
     "output_type": "execute_result"
    }
   ],
   "source": [
    "(* Question 28 [1.5 marks] *)\n",
    "\n",
    "\n",
    "(* What is the type of the function `f` mentioned below? *) \n",
    "\n",
    "let rec f x t = \n",
    "  match t with\n",
    "  | [] -> x\n",
    "  | h::t -> h (f x t);;\n",
    "\n"
   ]
  },
  {
   "cell_type": "code",
   "execution_count": 104,
   "metadata": {
    "vscode": {
     "languageId": "ocaml"
    }
   },
   "outputs": [
    {
     "data": {
      "text/plain": [
       "val f : 'a -> 'b -> 'a = <fun>\n"
      ]
     },
     "execution_count": 104,
     "metadata": {},
     "output_type": "execute_result"
    }
   ],
   "source": [
    "(* Question 29 [1.5 marks] *)\n",
    "\n",
    "\n",
    "(* What is the type of the function `f` mentioned below? *)\n",
    "\n",
    "let f x y = \n",
    "  let g a = a y in\n",
    "  let h b = b x in\n",
    "  g (h (fun a b -> a));;\n",
    "\n"
   ]
  },
  {
   "cell_type": "code",
   "execution_count": 106,
   "metadata": {
    "vscode": {
     "languageId": "ocaml"
    }
   },
   "outputs": [
    {
     "data": {
      "text/plain": [
       "type 'a option = None | Some of 'a\n"
      ]
     },
     "execution_count": 106,
     "metadata": {},
     "output_type": "execute_result"
    },
    {
     "data": {
      "text/plain": [
       "val f : 'a option -> 'a list = <fun>\n"
      ]
     },
     "execution_count": 106,
     "metadata": {},
     "output_type": "execute_result"
    }
   ],
   "source": [
    "(* Question 30 [1.5 marks] *)\n",
    "\n",
    "\n",
    "(* What is the type of the function `f` mentioned below? *)\n",
    "\n",
    "type 'a option = None | Some of 'a;;\n",
    "let f element = \n",
    "  match element with\n",
    "  | None -> []\n",
    "  | Some x -> [x; x];;\n",
    "\n"
   ]
  },
  {
   "cell_type": "code",
   "execution_count": 110,
   "metadata": {
    "vscode": {
     "languageId": "ocaml"
    }
   },
   "outputs": [
    {
     "data": {
      "text/plain": [
       "val f : bool * 'a -> 'a list = <fun>\n"
      ]
     },
     "execution_count": 110,
     "metadata": {},
     "output_type": "execute_result"
    }
   ],
   "source": [
    "(* Question 31 [1.5 marks] *)\n",
    "\n",
    "\n",
    "(* What is the type of the function `f` mentioned below? *)\n",
    "\n",
    "let f x = \n",
    "  let (a, b) = x in\n",
    "  if a then [b] else [];;\n",
    "\n",
    "\n"
   ]
  },
  {
   "cell_type": "code",
   "execution_count": null,
   "metadata": {
    "vscode": {
     "languageId": "ocaml"
    }
   },
   "outputs": [],
   "source": [
    "\n"
   ]
  }
 ],
 "metadata": {
  "kernelspec": {
   "display_name": "OCaml 4.10",
   "language": "OCaml",
   "name": "ocaml-jupyter"
  },
  "language_info": {
   "codemirror_mode": "text/x-ocaml",
   "file_extension": ".ml",
   "mimetype": "text/x-ocaml",
   "name": "OCaml",
   "nbconverter_exporter": null,
   "pygments_lexer": "OCaml",
   "version": "4.10.0"
  }
 },
 "nbformat": 4,
 "nbformat_minor": 2
}
